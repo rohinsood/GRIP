{
 "cells": [
  {
   "cell_type": "code",
   "execution_count": 7,
   "metadata": {},
   "outputs": [
    {
     "name": "stdout",
     "output_type": "stream",
     "text": [
      "Top 30 features saved to: results/analysis/fv_RR1_rf_baseline_rf_20250618_120513.csv\n",
      "                  Gene        Weight\n",
      "0   ENSMUSG00000117874  6.115549e+06\n",
      "1   ENSMUSG00000075318  4.941829e+06\n",
      "2   ENSMUSG00000111709  4.358415e+06\n",
      "3   ENSMUSG00000109564  4.084837e+06\n",
      "4   ENSMUSG00000094686  4.009557e+06\n",
      "5   ENSMUSG00000078901  3.937099e+06\n",
      "6   ENSMUSG00000032323  3.879130e+06\n",
      "7   ENSMUSG00000049436  3.792735e+06\n",
      "8   ENSMUSG00000041794  3.772277e+06\n",
      "9   ENSMUSG00000035373  3.749997e+06\n",
      "10  ENSMUSG00000027379  3.636731e+06\n",
      "11  ENSMUSG00000027500  3.608068e+06\n",
      "12  ENSMUSG00000022613  3.576395e+06\n",
      "13  ENSMUSG00000074183  3.537088e+06\n",
      "14  ENSMUSG00000034918  3.516369e+06\n",
      "15  ENSMUSG00000028587  3.510219e+06\n",
      "16  ENSMUSG00000027871  3.499880e+06\n",
      "17  ENSMUSG00000022878  3.490073e+06\n",
      "18  ENSMUSG00000035352  3.485940e+06\n",
      "19  ENSMUSG00000054083  3.472447e+06\n",
      "20  ENSMUSG00000027070  3.436315e+06\n",
      "21  ENSMUSG00000021697  3.420134e+06\n",
      "22  ENSMUSG00000079494  3.408869e+06\n",
      "23  ENSMUSG00000026255  3.386993e+06\n",
      "24  ENSMUSG00000026609  3.346941e+06\n",
      "25  ENSMUSG00000063590  3.286473e+06\n",
      "26  ENSMUSG00000029384  3.285732e+06\n",
      "27  ENSMUSG00000010476  3.269247e+06\n",
      "28  ENSMUSG00000058297  3.263400e+06\n",
      "29  ENSMUSG00000032172  3.249973e+06\n"
     ]
    }
   ],
   "source": [
    "csvs = [\n",
    "    \"results/model/RR1_ann_baseline_20250618_040609/ann.csv\",\n",
    "    \"results/model/RR1_nb_baseline_20250618_043432/naive_bayes.csv\",\n",
    "    \"results/model/RR1_ridge_baseline_20250618_043002/ridge.csv\"\n",
    "]\n",
    "\n",
    "top_features_df = vote_top_features(csv_paths=csvs, top_k=30)\n",
    "print(top_features_df)"
   ]
  },
  {
   "cell_type": "code",
   "execution_count": null,
   "metadata": {},
   "outputs": [],
   "source": []
  },
  {
   "cell_type": "code",
   "execution_count": 3,
   "metadata": {},
   "outputs": [],
   "source": [
    "import os\n",
    "import json\n",
    "import pandas as pd\n",
    "import numpy as np\n",
    "from datetime import datetime\n",
    "from collections import defaultdict\n",
    "\n",
    "def vote_top_features(csv_paths, config_path=\"config.json\", top_k=20):\n",
    "    # Load config\n",
    "    with open(config_path) as f:\n",
    "        config = json.load(f)\n",
    "\n",
    "    experiment_name = config.get(\"experiment_name\", \"experiment\")\n",
    "    models_used = \"_\".join(config.get(\"models\", []))\n",
    "    timestamp = datetime.now().strftime(\"%Y%m%d_%H%M%S\")\n",
    "\n",
    "    output_dir = f\"results/analysis\"\n",
    "    os.makedirs(output_dir, exist_ok=True)\n",
    "    output_path = os.path.join(output_dir, f\"fv_{experiment_name}_{models_used}_{timestamp}.csv\")\n",
    "\n",
    "    feature_importance = defaultdict(float)\n",
    "    feature_frequency = defaultdict(float)\n",
    "\n",
    "    dfs = [pd.read_csv(path) for path in csv_paths]\n",
    "    all_df = pd.concat(dfs, ignore_index=True)\n",
    "\n",
    "    rmse_values = all_df[\"rmse\"].values\n",
    "    r2_values = all_df[\"r2\"].values\n",
    "    rmse_min, rmse_max = rmse_values.min(), rmse_values.max()\n",
    "    r2_min, r2_max = r2_values.min(), r2_values.max()\n",
    "\n",
    "    all_df[\"rmse_scaled\"] = (all_df[\"rmse\"] - rmse_min) / (rmse_max - rmse_min)\n",
    "    all_df[\"r2_scaled\"] = (all_df[\"r2\"] - r2_min) / (r2_max - r2_min)\n",
    "\n",
    "    for _, row in all_df.iterrows():\n",
    "        rmse_scaled = row[\"rmse_scaled\"]\n",
    "        r2_scaled = row[\"r2_scaled\"]\n",
    "        weight_adjustment = 1 + r2_scaled\n",
    "\n",
    "        raw_features = row[\"top_features\"].strip(\"; \")\n",
    "        feature_dict = {\n",
    "            pair.split(\":\")[0]: float(pair.split(\":\")[1])\n",
    "            for pair in raw_features.split(\"; \")\n",
    "            if \":\" in pair\n",
    "        }\n",
    "\n",
    "        values = np.array(list(feature_dict.values()))\n",
    "        if values.max() > values.min():\n",
    "            feature_dict = {\n",
    "                k: (v - values.min()) / (values.max() - values.min())\n",
    "                for k, v in feature_dict.items()\n",
    "            }\n",
    "\n",
    "        for feature, score in feature_dict.items():\n",
    "            if score > 0:\n",
    "                feature_importance[feature] += score * weight_adjustment\n",
    "                feature_frequency[feature] += (1 / (rmse_scaled + 1e-6)) * weight_adjustment\n",
    "\n",
    "    for feature in feature_importance:\n",
    "        feature_importance[feature] *= feature_frequency[feature]\n",
    "\n",
    "    sorted_features = sorted(feature_importance.items(), key=lambda x: x[1], reverse=True)\n",
    "    df_sorted = pd.DataFrame(sorted_features, columns=[\"Gene\", \"Weight\"])\n",
    "\n",
    "    df_sorted.head(top_k).to_csv(output_path, index=False)\n",
    "    print(f\"Top {top_k} features saved to: {output_path}\")\n",
    "\n",
    "    return df_sorted.head(top_k)\n"
   ]
  }
 ],
 "metadata": {
  "kernelspec": {
   "display_name": "Python 3",
   "language": "python",
   "name": "python3"
  },
  "language_info": {
   "codemirror_mode": {
    "name": "ipython",
    "version": 3
   },
   "file_extension": ".py",
   "mimetype": "text/x-python",
   "name": "python",
   "nbconvert_exporter": "python",
   "pygments_lexer": "ipython3",
   "version": "3.10.12"
  },
  "orig_nbformat": 4,
  "vscode": {
   "interpreter": {
    "hash": "e7370f93d1d0cde622a1f8e1c04877d8463912d04d973331ad4851f04de6915a"
   }
  }
 },
 "nbformat": 4,
 "nbformat_minor": 2
}
