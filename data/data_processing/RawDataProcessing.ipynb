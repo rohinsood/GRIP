{
 "cells": [
  {
   "cell_type": "code",
   "execution_count": 1,
   "metadata": {},
   "outputs": [],
   "source": [
    "%%capture\n",
    "!pip install import_ipynb --no-cache\n",
    "import import_ipynb\n",
    "m = __import__(\"Methods\")"
   ]
  },
  {
   "cell_type": "code",
   "execution_count": 2,
   "metadata": {},
   "outputs": [],
   "source": [
    "import pandas as pd\n",
    "pd.set_option('display.max_columns', None)\n",
    "import matplotlib.pyplot as plt\n",
    "from urllib.request import urlretrieve\n",
    "from sklearn.preprocessing import StandardScaler\n",
    "import numpy as np\n",
    "from scipy.stats import boxcox\n",
    "import pandas as pd\n",
    "import zipfile\n",
    "import urllib.request\n",
    "import os"
   ]
  },
  {
   "cell_type": "code",
   "execution_count": 3,
   "metadata": {},
   "outputs": [],
   "source": [
    "rna_seq = dict()\n",
    "phenotype = dict()\n",
    "meta = dict()"
   ]
  },
  {
   "cell_type": "code",
   "execution_count": null,
   "metadata": {},
   "outputs": [],
   "source": [
    "rna_seq[\"47\"] = pd.read_csv(\"../raw_data/GLDS-47_rna_seq_Normalized_Counts.csv\")\n",
    "rna_seq[\"48\"] = pd.read_csv(\"../raw_data/GLDS-48_rna_seq_Normalized_Counts.csv\")\n",
    "rna_seq[\"137\"] = pd.read_csv(\"../raw_data/GLDS-137_rna_seq_Normalized_Counts.csv\")\n",
    "rna_seq[\"168\"] = pd.read_csv(\"../raw_data/GLDS-168_rna_seq_Normalized_Counts.csv\")"
   ]
  },
  {
   "cell_type": "code",
   "execution_count": 15,
   "metadata": {},
   "outputs": [],
   "source": [
    "def read_meta_data(dataset):\n",
    "  # dataset=255\n",
    "  url = 'https://osdr.nasa.gov/geode-py/ws/studies/OSD-' + str(dataset) + '/download?source=datamanager&file=OSD-' + dataset + '_metadata_OSD-' + dataset + '-ISA.zip'\n",
    "  filename = dataset + '-meta.zip'\n",
    "  urlretrieve(url, filename)\n",
    "  !unzip -o {filename} > /dev/null\n",
    "  df = pd.read_csv('s_OSD-' + dataset + '.txt', sep='\\t', header=0)\n",
    "  return df"
   ]
  },
  {
   "cell_type": "code",
   "execution_count": 5,
   "metadata": {},
   "outputs": [],
   "source": [
    "def fill_na_with_group_avg(df):\n",
    "    # Extract the group from the 'source_name' column\n",
    "    df['group'] = df['source_name'].apply(lambda x: x.split('_')[0])\n",
    "    \n",
    "    # For each column that needs NaN values filled\n",
    "    for col in ['th_positive_cells', 'repo_glial_cells']:\n",
    "        # Calculate the group average for each group\n",
    "        group_avg = df.groupby('group')[col].transform('mean')\n",
    "        \n",
    "        # Fill NaN values with the group average\n",
    "        df[col] = df[col].fillna(group_avg)\n",
    "    \n",
    "    # Drop the temporary 'group' column\n",
    "    df.drop(columns=['group'], inplace=True)"
   ]
  }
 ],
 "metadata": {
  "kernelspec": {
   "display_name": "Python 3",
   "language": "python",
   "name": "python3"
  },
  "language_info": {
   "codemirror_mode": {
    "name": "ipython",
    "version": 3
   },
   "file_extension": ".py",
   "mimetype": "text/x-python",
   "name": "python",
   "nbconvert_exporter": "python",
   "pygments_lexer": "ipython3",
   "version": "3.10.12"
  },
  "orig_nbformat": 4,
  "vscode": {
   "interpreter": {
    "hash": "e7370f93d1d0cde622a1f8e1c04877d8463912d04d973331ad4851f04de6915a"
   }
  }
 },
 "nbformat": 4,
 "nbformat_minor": 2
}
