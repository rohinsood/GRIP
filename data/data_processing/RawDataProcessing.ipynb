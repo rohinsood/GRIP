{
 "cells": [
  {
   "cell_type": "code",
   "execution_count": 9,
   "metadata": {},
   "outputs": [],
   "source": [
    "%%capture\n",
    "!pip install import_ipynb --no-cache\n",
    "import import_ipynb\n",
    "m = __import__(\"Methods\")"
   ]
  },
  {
   "cell_type": "code",
   "execution_count": 3,
   "metadata": {},
   "outputs": [],
   "source": [
    "import pandas as pd\n",
    "pd.set_option('display.max_columns', None)\n",
    "import matplotlib.pyplot as plt\n",
    "from urllib.request import urlretrieve\n",
    "from sklearn.preprocessing import StandardScaler\n",
    "import numpy as np\n",
    "from scipy.stats import boxcox\n",
    "import pandas as pd\n",
    "import zipfile\n",
    "import urllib.request\n",
    "import os"
   ]
  },
  {
   "cell_type": "code",
   "execution_count": 7,
   "metadata": {},
   "outputs": [],
   "source": [
    "rna_seq = dict()\n",
    "phenotype = dict()\n",
    "meta = dict()"
   ]
  },
  {
   "attachments": {},
   "cell_type": "markdown",
   "metadata": {},
   "source": [
    "# RR-1 Data"
   ]
  },
  {
   "cell_type": "code",
   "execution_count": 10,
   "metadata": {},
   "outputs": [
    {
     "name": "stdout",
     "output_type": "stream",
     "text": [
      "Loading metadata for OSD-47...\n",
      "Loading metadata for OSD-48...\n",
      "Loading metadata for OSD-137...\n",
      "Loading metadata for OSD-168...\n",
      "Loading RNA-seq data for OSD-47...\n",
      "Loading RNA-seq data for OSD-48...\n",
      "Loading RNA-seq data for OSD-137...\n",
      "Loading RNA-seq data for OSD-168...\n",
      "Loading phenotype data for OSD-47...\n",
      "Loading phenotype data for OSD-48...\n",
      "Loading phenotype data for OSD-137...\n",
      "Filtering RNA-seq data for OSD-47...\n",
      "Number of protein coding genes: 15059\n",
      "2520\n",
      "Filtering RNA-seq data for OSD-48...\n",
      "Number of protein coding genes: 15991\n",
      "5244\n",
      "Filtering RNA-seq data for OSD-137...\n",
      "Number of protein coding genes: 15567\n",
      "3004\n",
      "Filtering RNA-seq data for OSD-168...\n",
      "Number of protein coding genes: 18551\n",
      "6661\n",
      "Transposing RNA-seq data for OSD-47...\n",
      "Transposing RNA-seq data for OSD-48...\n",
      "Transposing RNA-seq data for OSD-137...\n",
      "Transposing RNA-seq data for OSD-168...\n",
      "Aligning RNA-seq and phenotype data for OSD-47...\n",
      "Saving aligned data for OSD-47...\n",
      "Aligning RNA-seq and phenotype data for OSD-48...\n",
      "Saving aligned data for OSD-48...\n",
      "Aligning RNA-seq and phenotype data for OSD-137...\n",
      "Saving aligned data for OSD-137...\n",
      "Aligning RNA-seq data from OSD-168 with phenotype data from OSD-137...\n",
      "Saving aligned data for OSD-168 (RNA) and OSD-137 (phenotype)...\n"
     ]
    }
   ],
   "source": [
    "# Dataset identifiers\n",
    "datasets = [\"47\", \"48\", \"137\", \"168\"]\n",
    "\n",
    "# --- Load Metadata ---\n",
    "for ds in datasets:\n",
    "    meta_path = f\"../meta_data/OSD-{ds}_metadata_OSD-{ds}-ISA/s_OSD-{ds}.txt\"\n",
    "    if os.path.exists(meta_path):\n",
    "        print(f\"Loading metadata for OSD-{ds}...\")\n",
    "        meta[ds] = pd.read_csv(meta_path, sep=\"\\t\", header=0)\n",
    "\n",
    "# --- Load RNA-seq Data ---\n",
    "for ds in datasets:\n",
    "    rna_path = f\"../raw_data/GLDS-{ds}_rna_seq_Normalized_Counts.csv\"\n",
    "    if os.path.exists(rna_path):\n",
    "        print(f\"Loading RNA-seq data for OSD-{ds}...\")\n",
    "        rna_seq[ds] = pd.read_csv(rna_path)\n",
    "\n",
    "# --- Load Phenotype Data ---\n",
    "pheno_sources = {\n",
    "    \"47\": \"LSDS-29_Histology_OSD_47_Histology_TRANSFORMED.csv\",\n",
    "    \"48\": \"LSDS-2_Histology_OSD_48_Histology_TRANSFORMED.csv\",\n",
    "    \"137\": \"LSDS-28_Histology_OSD_137_Histology_TRANSFORMED.csv\"\n",
    "}\n",
    "\n",
    "for ds, fname in pheno_sources.items():\n",
    "    pheno_path = f\"../raw_data/{fname}\"\n",
    "    if os.path.exists(pheno_path):\n",
    "        print(f\"Loading phenotype data for OSD-{ds}...\")\n",
    "        phenotype[ds] = pd.read_csv(pheno_path)\n",
    "\n",
    "# --- Filter RNA-seq Data ---\n",
    "for ds in rna_seq:\n",
    "    print(f\"Filtering RNA-seq data for OSD-{ds}...\")\n",
    "\n",
    "    df = rna_seq[ds].copy()\n",
    "\n",
    "    if ds == \"168\":\n",
    "        # Convert index to 'Unnamed: 0' column for compatibility with filter_data\n",
    "        df = df.reset_index().rename(columns={\"index\": \"Unnamed: 0\"})\n",
    "\n",
    "    rna_seq[ds] = m.filter_data(df, dropnans=True, dropgenes=True, droplowcvs=0.5, droplowcount=10)\n",
    "\n",
    "\n",
    "# --- Transpose RNA-seq Data ---\n",
    "for ds in rna_seq:\n",
    "    print(f\"Transposing RNA-seq data for OSD-{ds}...\")\n",
    "    rna_seq[ds] = m.transpose_df(rna_seq[ds], cur_index_col=\"Unnamed: 0\", new_index_col=\"Sample name\")\n",
    "\n",
    "\n",
    "# --- Align RNA-seq and Phenotype by Common Samples (47, 48) ---\n",
    "for ds in [\"47\", \"48\", \"137\"]:\n",
    "    if ds in rna_seq and ds in phenotype:\n",
    "        print(f\"Aligning RNA-seq and phenotype data for OSD-{ds}...\")\n",
    "        rna = rna_seq[ds]\n",
    "        pheno = phenotype[ds]\n",
    "\n",
    "        common = set(rna[\"Sample name\"]) & set(pheno[\"Sample name\"])\n",
    "        rna_common = rna[rna[\"Sample name\"].isin(common)].copy()\n",
    "        pheno_common = pheno[pheno[\"Sample name\"].isin(common)].copy()\n",
    "        pheno_common = pheno_common[[\"Sample name\", \"ORO Positivity (%)\"]]\n",
    "\n",
    "        rna_common.reset_index(drop=True, inplace=True)\n",
    "        pheno_common.reset_index(drop=True, inplace=True)\n",
    "\n",
    "        print(f\"Saving aligned data for OSD-{ds}...\")\n",
    "        rna_common.to_csv(f\"../x_variables/rna_seq-{ds}.csv\", index=False)\n",
    "        pheno_common.to_csv(f\"../y_variables/pheno-{ds}.csv\", index=False)\n",
    "\n",
    "# --- Special Case: phenotype[\"137\"] aligned with rna_seq[\"168\"] ---\n",
    "if \"168\" in rna_seq and \"137\" in phenotype:\n",
    "    print(\"Aligning RNA-seq data from OSD-168 with phenotype data from OSD-137...\")\n",
    "    rna = rna_seq[\"168\"]\n",
    "    pheno = phenotype[\"137\"]\n",
    "\n",
    "    common = set(rna[\"Sample name\"]) & set(pheno[\"Sample name\"])\n",
    "    rna_common = rna[rna[\"Sample name\"].isin(common)].copy()\n",
    "    pheno_common = pheno[pheno[\"Sample name\"].isin(common)].copy()\n",
    "    pheno_common = pheno_common[[\"Sample name\", \"ORO Positivity (%)\"]]\n",
    "\n",
    "    rna_common.reset_index(drop=True, inplace=True)\n",
    "    pheno_common.reset_index(drop=True, inplace=True)\n",
    "\n",
    "    print(\"Saving aligned data for OSD-168 (RNA) and OSD-137 (phenotype)...\")\n",
    "    rna_common.to_csv(\"../x_variables/rna_seq-168.csv\", index=False)\n",
    "    pheno_common.to_csv(\"../y_variables/pheno-168.csv\", index=False)\n"
   ]
  },
  {
   "cell_type": "code",
   "execution_count": 11,
   "metadata": {},
   "outputs": [
    {
     "name": "stdout",
     "output_type": "stream",
     "text": [
      "Identifying common genes across datasets...\n",
      "Number of common genes across datasets: 1354\n",
      "Subsetting and appending OSD-47...\n",
      "Subsetting and appending OSD-48...\n",
      "Subsetting and appending OSD-137...\n",
      "Subsetting and appending OSD-168...\n"
     ]
    }
   ],
   "source": [
    "# --- Identify common genes across all RNA-seq datasets ---\n",
    "print(\"Identifying common genes across datasets...\")\n",
    "common_genes = None\n",
    "\n",
    "for ds, df in rna_seq.items():\n",
    "    gene_columns = set(df.columns) - {\"Sample name\"}  # exclude metadata column\n",
    "    if common_genes is None:\n",
    "        common_genes = gene_columns\n",
    "    else:\n",
    "        common_genes &= gene_columns  # intersection\n",
    "\n",
    "common_genes = sorted(list(common_genes))  # sort for consistent order\n",
    "\n",
    "print(f\"Number of common genes across datasets: {len(common_genes)}\")\n",
    "\n",
    "# --- Subset each RNA-seq dataset to common genes and concatenate ---\n",
    "rna_combined = []\n",
    "\n",
    "for ds, df in rna_seq.items():\n",
    "    print(f\"Subsetting and appending OSD-{ds}...\")\n",
    "    subset = df[[\"Sample name\"] + common_genes].copy()\n",
    "    subset[\"Dataset\"] = f\"OSD-{ds}\"  # optional: track source\n",
    "    rna_combined.append(subset)\n",
    "\n",
    "# Combine all into a single DataFrame\n",
    "rna_all = pd.concat(rna_combined, axis=0, ignore_index=True)"
   ]
  },
  {
   "cell_type": "code",
   "execution_count": 17,
   "metadata": {},
   "outputs": [
    {
     "name": "stdout",
     "output_type": "stream",
     "text": [
      "Combining phenotype data across datasets...\n"
     ]
    }
   ],
   "source": [
    "# --- Combine all phenotype data into one ---\n",
    "print(\"Combining phenotype data across datasets...\")\n",
    "\n",
    "pheno_combined = []\n",
    "\n",
    "# Standard datasets: 47, 48\n",
    "for ds in [\"47\", \"48\", \"137\"]:\n",
    "    if ds in phenotype:\n",
    "        df = phenotype[ds][[\"Sample name\", \"ORO Positivity (%)\"]].copy()\n",
    "        df[\"Dataset\"] = f\"OSD-{ds}\"\n",
    "        pheno_combined.append(df)\n",
    "\n",
    "# Combine all into a single DataFrame\n",
    "pheno_all = pd.concat(pheno_combined, axis=0, ignore_index=True)"
   ]
  },
  {
   "cell_type": "code",
   "execution_count": 18,
   "metadata": {},
   "outputs": [
    {
     "name": "stdout",
     "output_type": "stream",
     "text": [
      "Number of common samples: 41\n"
     ]
    }
   ],
   "source": [
    "# Strip whitespace to ensure matches\n",
    "rna_all[\"Sample name\"] = rna_all[\"Sample name\"].str.strip()\n",
    "pheno_all[\"Sample name\"] = pheno_all[\"Sample name\"].str.strip()\n",
    "\n",
    "# Find common samples\n",
    "common_samples = set(rna_all[\"Sample name\"]) & set(pheno_all[\"Sample name\"])\n",
    "print(f\"Number of common samples: {len(common_samples)}\")\n",
    "\n",
    "# Filter both datasets\n",
    "rna_all = rna_all[rna_all[\"Sample name\"].isin(common_samples)].reset_index(drop=True)\n",
    "pheno_all = pheno_all[pheno_all[\"Sample name\"].isin(common_samples)].reset_index(drop=True)"
   ]
  },
  {
   "cell_type": "code",
   "execution_count": 20,
   "metadata": {},
   "outputs": [],
   "source": [
    "def extract_environment(sample_name):\n",
    "    parts = sample_name.split(\"_\")\n",
    "    if len(parts) >= 4:\n",
    "        env = parts[3]\n",
    "        return env if env == \"FLT\" else \"GC\"\n",
    "    return \"UNKNOWN\"\n",
    "\n",
    "# Apply to both datasets\n",
    "rna_all[\"Environment\"] = rna_all[\"Sample name\"].apply(extract_environment)\n",
    "pheno_all[\"Environment\"] = pheno_all[\"Sample name\"].apply(extract_environment)\n",
    "\n",
    "# Apply to both datasets\n",
    "rna_all[\"Environment\"] = rna_all[\"Sample name\"].apply(extract_environment)\n",
    "pheno_all[\"Environment\"] = pheno_all[\"Sample name\"].apply(extract_environment)"
   ]
  },
  {
   "cell_type": "code",
   "execution_count": 21,
   "metadata": {},
   "outputs": [
    {
     "name": "stdout",
     "output_type": "stream",
     "text": [
      "Combined RNA-seq data saved with 41 samples and 1355 genes.\n",
      "Combined phenotype data saved with 41 samples.\n"
     ]
    }
   ],
   "source": [
    "rna_all.to_csv(\"../x_variables/rna_seq-RR1.csv\", index=False)\n",
    "print(f\"Combined RNA-seq data saved with {rna_all.shape[0]} samples and {rna_all.shape[1] - 2} genes.\")\n",
    "pheno_all.to_csv(\"../y_variables/pheno_seq-RR1.csv\", index=False)\n",
    "print(f\"Combined phenotype data saved with {pheno_all.shape[0]} samples.\")"
   ]
  },
  {
   "cell_type": "code",
   "execution_count": 22,
   "metadata": {},
   "outputs": [
    {
     "name": "stdout",
     "output_type": "stream",
     "text": [
      "Combined dataset saved with 41 samples and 1357 columns.\n"
     ]
    }
   ],
   "source": [
    "# --- Merge RNA-seq and phenotype datasets on Sample name ---\n",
    "combined_df = pd.merge(rna_all, pheno_all, on=\"Sample name\", suffixes=(\"_rna\", \"_pheno\"))\n",
    "\n",
    "# Optional: reordering columns\n",
    "# Move metadata columns to the front\n",
    "meta_cols = [\"Sample name\", \"Dataset_rna\", \"Environment_rna\", \"ORO Positivity (%)\"]\n",
    "gene_cols = [col for col in combined_df.columns if col not in meta_cols]\n",
    "combined_df = combined_df[meta_cols + gene_cols]\n",
    "\n",
    "combined_df.drop(columns=[\"Dataset_rna\", \"Dataset_pheno\", \"Environment_pheno\"], axis=1, inplace=True)\n",
    "combined_df.rename(columns={\"Environment_rna\": \"Environment\"}, inplace=True)\n",
    "\n",
    "# --- Save the combined dataset ---\n",
    "combined_df.to_csv(\"../ml_data/RR1-combined.csv\", index=False)\n",
    "print(f\"Combined dataset saved with {combined_df.shape[0]} samples and {combined_df.shape[1]} columns.\")\n"
   ]
  },
  {
   "cell_type": "code",
   "execution_count": 44,
   "metadata": {},
   "outputs": [
    {
     "data": {
      "text/plain": [
       "Index(['Sample name', 'Environment', 'ORO Positivity (%)',\n",
       "       'ENSMUSG00000000094', 'ENSMUSG00000000365', 'ENSMUSG00000000402',\n",
       "       'ENSMUSG00000000416', 'ENSMUSG00000000562', 'ENSMUSG00000000627',\n",
       "       'ENSMUSG00000000794',\n",
       "       ...\n",
       "       'ENSMUSG00000116378', 'ENSMUSG00000116461', 'ENSMUSG00000116594',\n",
       "       'ENSMUSG00000116780', 'ENSMUSG00000117081', 'ENSMUSG00000117286',\n",
       "       'ENSMUSG00000117748', 'ENSMUSG00000117874', 'Dataset_pheno',\n",
       "       'Environment_pheno'],\n",
       "      dtype='object', length=1359)"
      ]
     },
     "execution_count": 44,
     "metadata": {},
     "output_type": "execute_result"
    }
   ],
   "source": [
    "combined_df.columns"
   ]
  },
  {
   "cell_type": "code",
   "execution_count": 16,
   "metadata": {},
   "outputs": [
    {
     "data": {
      "text/plain": [
       "Index(['Sample name', 'Environment', 'ORO Positivity (%)',\n",
       "       'ENSMUSG00000000094', 'ENSMUSG00000000365', 'ENSMUSG00000000402',\n",
       "       'ENSMUSG00000000416', 'ENSMUSG00000000562', 'ENSMUSG00000000627',\n",
       "       'ENSMUSG00000000794',\n",
       "       ...\n",
       "       'ENSMUSG00000115232', 'ENSMUSG00000115958', 'ENSMUSG00000116378',\n",
       "       'ENSMUSG00000116461', 'ENSMUSG00000116594', 'ENSMUSG00000116780',\n",
       "       'ENSMUSG00000117081', 'ENSMUSG00000117286', 'ENSMUSG00000117748',\n",
       "       'ENSMUSG00000117874'],\n",
       "      dtype='object', length=1357)"
      ]
     },
     "execution_count": 16,
     "metadata": {},
     "output_type": "execute_result"
    }
   ],
   "source": [
    "df = pd.read_csv(\"../ml_data/RR1-combined.csv\")\n",
    "\n",
    "non_string_df = df.select_dtypes(exclude=['string'])\n",
    "\n",
    "# Get the column names\n",
    "non_string_columns = non_string_df.columns\n",
    "non_string_columns"
   ]
  }
 ],
 "metadata": {
  "kernelspec": {
   "display_name": "Python 3",
   "language": "python",
   "name": "python3"
  },
  "language_info": {
   "codemirror_mode": {
    "name": "ipython",
    "version": 3
   },
   "file_extension": ".py",
   "mimetype": "text/x-python",
   "name": "python",
   "nbconvert_exporter": "python",
   "pygments_lexer": "ipython3",
   "version": "3.10.12 (main, May 27 2025, 17:12:29) [GCC 11.4.0]"
  },
  "orig_nbformat": 4,
  "vscode": {
   "interpreter": {
    "hash": "e7370f93d1d0cde622a1f8e1c04877d8463912d04d973331ad4851f04de6915a"
   }
  }
 },
 "nbformat": 4,
 "nbformat_minor": 2
}
