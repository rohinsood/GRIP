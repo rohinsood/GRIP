{
 "cells": [
  {
   "cell_type": "code",
   "execution_count": 1,
   "metadata": {},
   "outputs": [],
   "source": [
    "%%capture\n",
    "!pip install import_ipynb --no-cache\n",
    "import import_ipynb\n",
    "m = __import__(\"Methods\")"
   ]
  },
  {
   "cell_type": "code",
   "execution_count": 2,
   "metadata": {},
   "outputs": [],
   "source": [
    "import pandas as pd\n",
    "pd.set_option('display.max_columns', None)\n",
    "import matplotlib.pyplot as plt\n",
    "from urllib.request import urlretrieve\n",
    "from sklearn.preprocessing import StandardScaler\n",
    "import numpy as np\n",
    "from scipy.stats import boxcox\n",
    "import pandas as pd\n",
    "import zipfile\n",
    "import urllib.request\n",
    "import os"
   ]
  },
  {
   "cell_type": "code",
   "execution_count": 3,
   "metadata": {},
   "outputs": [],
   "source": [
    "rna_seq = dict()\n",
    "phenotype = dict()\n",
    "meta = dict()"
   ]
  },
  {
   "attachments": {},
   "cell_type": "markdown",
   "metadata": {},
   "source": [
    "# RR-1 Data"
   ]
  },
  {
   "cell_type": "code",
   "execution_count": 4,
   "metadata": {},
   "outputs": [
    {
     "name": "stdout",
     "output_type": "stream",
     "text": [
      "Loading metadata for OSD-47...\n",
      "Loading metadata for OSD-48...\n",
      "Loading metadata for OSD-137...\n",
      "Loading metadata for OSD-168...\n",
      "Loading RNA-seq data for OSD-47...\n",
      "Loading RNA-seq data for OSD-48...\n",
      "Loading RNA-seq data for OSD-137...\n",
      "Loading RNA-seq data for OSD-168...\n",
      "Loading phenotype data for OSD-47...\n",
      "Loading phenotype data for OSD-48...\n",
      "Loading phenotype data for OSD-137...\n",
      "Filtering RNA-seq data for OSD-47...\n",
      "Number of protein coding genes: 15059\n",
      "2520\n",
      "Filtering RNA-seq data for OSD-48...\n",
      "Number of protein coding genes: 15991\n",
      "5244\n",
      "Filtering RNA-seq data for OSD-137...\n",
      "Number of protein coding genes: 15567\n",
      "3004\n",
      "Filtering RNA-seq data for OSD-168...\n",
      "Number of protein coding genes: 18551\n",
      "6661\n",
      "Transposing RNA-seq data for OSD-47...\n",
      "Transposing RNA-seq data for OSD-48...\n",
      "Transposing RNA-seq data for OSD-137...\n",
      "Transposing RNA-seq data for OSD-168...\n",
      "Aligning RNA-seq and phenotype data for OSD-47...\n",
      "Saving aligned data for OSD-47...\n",
      "Aligning RNA-seq and phenotype data for OSD-48...\n",
      "Saving aligned data for OSD-48...\n",
      "Aligning RNA-seq and phenotype data for OSD-137...\n",
      "Saving aligned data for OSD-137...\n",
      "Aligning RNA-seq data from OSD-168 with phenotype data from OSD-137...\n",
      "Saving aligned data for OSD-168 (RNA) and OSD-137 (phenotype)...\n"
     ]
    }
   ],
   "source": [
    "# Dataset identifiers\n",
    "datasets = [\"47\", \"48\", \"137\", \"168\"]\n",
    "\n",
    "# --- Load Metadata ---\n",
    "for ds in datasets:\n",
    "    meta_path = f\"../meta_data/OSD-{ds}_metadata_OSD-{ds}-ISA/s_OSD-{ds}.txt\"\n",
    "    if os.path.exists(meta_path):\n",
    "        print(f\"Loading metadata for OSD-{ds}...\")\n",
    "        meta[ds] = pd.read_csv(meta_path, sep=\"\\t\", header=0)\n",
    "\n",
    "# --- Load RNA-seq Data ---\n",
    "for ds in datasets:\n",
    "    rna_path = f\"../raw_data/GLDS-{ds}_rna_seq_Normalized_Counts.csv\"\n",
    "    if os.path.exists(rna_path):\n",
    "        print(f\"Loading RNA-seq data for OSD-{ds}...\")\n",
    "        rna_seq[ds] = pd.read_csv(rna_path)\n",
    "\n",
    "# --- Load Phenotype Data ---\n",
    "pheno_sources = {\n",
    "    \"47\": \"LSDS-29_Histology_OSD_47_Histology_TRANSFORMED.csv\",\n",
    "    \"48\": \"LSDS-2_Histology_OSD_48_Histology_TRANSFORMED.csv\",\n",
    "    \"137\": \"LSDS-28_Histology_OSD_137_Histology_TRANSFORMED.csv\"\n",
    "}\n",
    "\n",
    "for ds, fname in pheno_sources.items():\n",
    "    pheno_path = f\"../raw_data/{fname}\"\n",
    "    if os.path.exists(pheno_path):\n",
    "        print(f\"Loading phenotype data for OSD-{ds}...\")\n",
    "        phenotype[ds] = pd.read_csv(pheno_path)\n",
    "\n",
    "# --- Filter RNA-seq Data ---\n",
    "for ds in rna_seq:\n",
    "    print(f\"Filtering RNA-seq data for OSD-{ds}...\")\n",
    "\n",
    "    df = rna_seq[ds].copy()\n",
    "\n",
    "    if ds == \"168\":\n",
    "        # Convert index to 'Unnamed: 0' column for compatibility with filter_data\n",
    "        df = df.reset_index().rename(columns={\"index\": \"Unnamed: 0\"})\n",
    "\n",
    "    rna_seq[ds] = m.filter_data(df, dropnans=True, dropgenes=True, droplowcvs=0.5, droplowcount=10)\n",
    "\n",
    "\n",
    "# --- Transpose RNA-seq Data ---\n",
    "for ds in rna_seq:\n",
    "    print(f\"Transposing RNA-seq data for OSD-{ds}...\")\n",
    "    rna_seq[ds] = m.transpose_df(rna_seq[ds], cur_index_col=\"Unnamed: 0\", new_index_col=\"Sample name\")\n",
    "\n",
    "\n",
    "# --- Align RNA-seq and Phenotype by Common Samples (47, 48) ---\n",
    "for ds in [\"47\", \"48\", \"137\"]:\n",
    "    if ds in rna_seq and ds in phenotype:\n",
    "        print(f\"Aligning RNA-seq and phenotype data for OSD-{ds}...\")\n",
    "        rna = rna_seq[ds]\n",
    "        pheno = phenotype[ds]\n",
    "\n",
    "        common = set(rna[\"Sample name\"]) & set(pheno[\"Sample name\"])\n",
    "        rna_common = rna[rna[\"Sample name\"].isin(common)].copy()\n",
    "        pheno_common = pheno[pheno[\"Sample name\"].isin(common)].copy()\n",
    "        pheno_common = pheno_common[[\"Sample name\", \"ORO Positivity (%)\"]]\n",
    "\n",
    "        rna_common.reset_index(drop=True, inplace=True)\n",
    "        pheno_common.reset_index(drop=True, inplace=True)\n",
    "\n",
    "        print(f\"Saving aligned data for OSD-{ds}...\")\n",
    "        rna_common.to_csv(f\"../x_variables/rna_seq-{ds}.csv\", index=False)\n",
    "        pheno_common.to_csv(f\"../y_variables/pheno-{ds}.csv\", index=False)\n",
    "\n",
    "# --- Special Case: phenotype[\"137\"] aligned with rna_seq[\"168\"] ---\n",
    "if \"168\" in rna_seq and \"137\" in phenotype:\n",
    "    print(\"Aligning RNA-seq data from OSD-168 with phenotype data from OSD-137...\")\n",
    "    rna = rna_seq[\"168\"]\n",
    "    pheno = phenotype[\"137\"]\n",
    "\n",
    "    common = set(rna[\"Sample name\"]) & set(pheno[\"Sample name\"])\n",
    "    rna_common = rna[rna[\"Sample name\"].isin(common)].copy()\n",
    "    pheno_common = pheno[pheno[\"Sample name\"].isin(common)].copy()\n",
    "    pheno_common = pheno_common[[\"Sample name\", \"ORO Positivity (%)\"]]\n",
    "\n",
    "    rna_common.reset_index(drop=True, inplace=True)\n",
    "    pheno_common.reset_index(drop=True, inplace=True)\n",
    "\n",
    "    print(\"Saving aligned data for OSD-168 (RNA) and OSD-137 (phenotype)...\")\n",
    "    rna_common.to_csv(\"../x_variables/rna_seq-168.csv\", index=False)\n",
    "    pheno_common.to_csv(\"../y_variables/pheno-168.csv\", index=False)\n"
   ]
  }
 ],
 "metadata": {
  "kernelspec": {
   "display_name": "Python 3",
   "language": "python",
   "name": "python3"
  },
  "language_info": {
   "codemirror_mode": {
    "name": "ipython",
    "version": 3
   },
   "file_extension": ".py",
   "mimetype": "text/x-python",
   "name": "python",
   "nbconvert_exporter": "python",
   "pygments_lexer": "ipython3",
   "version": "3.10.12"
  },
  "orig_nbformat": 4,
  "vscode": {
   "interpreter": {
    "hash": "e7370f93d1d0cde622a1f8e1c04877d8463912d04d973331ad4851f04de6915a"
   }
  }
 },
 "nbformat": 4,
 "nbformat_minor": 2
}
