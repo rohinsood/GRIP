{
 "cells": [
  {
   "cell_type": "code",
   "execution_count": 28,
   "metadata": {},
   "outputs": [],
   "source": [
    "%%capture\n",
    "!pip install mygene\n"
   ]
  },
  {
   "cell_type": "code",
   "execution_count": 8,
   "metadata": {},
   "outputs": [],
   "source": [
    "import os\n",
    "import pandas as pd\n",
    "from datetime import datetime\n",
    "from gseapy import enrichr\n",
    "import json\n"
   ]
  },
  {
   "cell_type": "code",
   "execution_count": 13,
   "metadata": {},
   "outputs": [
    {
     "name": "stdout",
     "output_type": "stream",
     "text": [
      "['ARCHS4_Cell-lines', 'ARCHS4_IDG_Coexp', 'ARCHS4_Kinases_Coexp', 'ARCHS4_TFs_Coexp', 'ARCHS4_Tissues', 'Achilles_fitness_decrease', 'Achilles_fitness_increase', 'Aging_Perturbations_from_GEO_down', 'Aging_Perturbations_from_GEO_up', 'Allen_Brain_Atlas_10x_scRNA_2021', 'Allen_Brain_Atlas_down', 'Allen_Brain_Atlas_up', 'Azimuth_2023', 'Azimuth_Cell_Types_2021', 'BioCarta_2013', 'BioCarta_2015', 'BioCarta_2016', 'BioPlanet_2019', 'BioPlex_2017', 'CCLE_Proteomics_2020', 'COMPARTMENTS_Curated_2025', 'COMPARTMENTS_Experimental_2025', 'CORUM', 'COVID-19_Related_Gene_Sets', 'COVID-19_Related_Gene_Sets_2021', 'Cancer_Cell_Line_Encyclopedia', 'CellMarker_2024', 'CellMarker_Augmented_2021', 'ChEA_2013', 'ChEA_2015', 'ChEA_2016', 'ChEA_2022', 'Chromosome_Location', 'Chromosome_Location_hg19', 'ClinVar_2019', 'DGIdb_Drug_Targets_2024', 'DSigDB', 'Data_Acquisition_Method_Most_Popular_Genes', 'DepMap_CRISPR_GeneDependency_CellLines_2023', 'DepMap_WG_CRISPR_Screens_Broad_CellLines_2019', 'DepMap_WG_CRISPR_Screens_Sanger_CellLines_2019', 'Descartes_Cell_Types_and_Tissue_2021', 'Diabetes_Perturbations_GEO_2022', 'DisGeNET', 'Disease_Perturbations_from_GEO_down', 'Disease_Perturbations_from_GEO_up', 'Disease_Signatures_from_GEO_down_2014', 'Disease_Signatures_from_GEO_up_2014', 'DrugMatrix', 'Drug_Perturbations_from_GEO_2014', 'Drug_Perturbations_from_GEO_down', 'Drug_Perturbations_from_GEO_up', 'ENCODE_Histone_Modifications_2013', 'ENCODE_Histone_Modifications_2015', 'ENCODE_TF_ChIP-seq_2014', 'ENCODE_TF_ChIP-seq_2015', 'ENCODE_and_ChEA_Consensus_TFs_from_ChIP-X', 'ESCAPE', 'Elsevier_Pathway_Collection', 'Enrichr_Libraries_Most_Popular_Genes', 'Enrichr_Submissions_TF-Gene_Coocurrence', 'Enrichr_Users_Contributed_Lists_2020', 'Epigenomics_Roadmap_HM_ChIP-seq', 'FANTOM6_lncRNA_KD_DEGs', 'GO_Biological_Process_2021', 'GO_Biological_Process_2023', 'GO_Biological_Process_2025', 'GO_Cellular_Component_2021', 'GO_Cellular_Component_2023', 'GO_Cellular_Component_2025', 'GO_Molecular_Function_2021', 'GO_Molecular_Function_2023', 'GO_Molecular_Function_2025', 'GTEx_Aging_Signatures_2021', 'GTEx_Tissue_Expression_Down', 'GTEx_Tissue_Expression_Up', 'GTEx_Tissues_V8_2023', 'GWAS_Catalog_2019', 'GWAS_Catalog_2023', 'GeDiPNet_2023', 'GeneSigDB', 'Gene_Perturbations_from_GEO_down', 'Gene_Perturbations_from_GEO_up', 'Genes_Associated_with_NIH_Grants', 'Genome_Browser_PWMs', 'GlyGen_Glycosylated_Proteins_2022', 'HDSigDB_Human_2021', 'HDSigDB_Mouse_2021', 'HMDB_Metabolites', 'HMS_LINCS_KinomeScan', 'HomoloGene', 'HuBMAP_ASCT_plus_B_augmented_w_RNAseq_Coexpression', 'HuBMAP_ASCTplusB_augmented_2022', 'HumanCyc_2015', 'HumanCyc_2016', 'Human_Gene_Atlas', 'Human_Phenotype_Ontology', 'IDG_Drug_Targets_2022', 'InterPro_Domains_2019', 'Jensen_COMPARTMENTS', 'Jensen_DISEASES', 'Jensen_DISEASES_Curated_2025', 'Jensen_DISEASES_Experimental_2025', 'Jensen_TISSUES', 'KEA_2013', 'KEA_2015', 'KEGG_2013', 'KEGG_2015', 'KEGG_2016', 'KEGG_2019_Human', 'KEGG_2019_Mouse', 'KEGG_2021_Human', 'KOMP2_Mouse_Phenotypes_2022', 'Kinase_Perturbations_from_GEO_down', 'Kinase_Perturbations_from_GEO_up', 'L1000_Kinase_and_GPCR_Perturbations_down', 'L1000_Kinase_and_GPCR_Perturbations_up', 'LINCS_L1000_CRISPR_KO_Consensus_Sigs', 'LINCS_L1000_Chem_Pert_Consensus_Sigs', 'LINCS_L1000_Chem_Pert_down', 'LINCS_L1000_Chem_Pert_up', 'LINCS_L1000_Ligand_Perturbations_down', 'LINCS_L1000_Ligand_Perturbations_up', 'Ligand_Perturbations_from_GEO_down', 'Ligand_Perturbations_from_GEO_up', 'MAGMA_Drugs_and_Diseases', 'MAGNET_2023', 'MCF7_Perturbations_from_GEO_down', 'MCF7_Perturbations_from_GEO_up', 'MGI_Mammalian_Phenotype_Level_4_2021', 'MGI_Mammalian_Phenotype_Level_4_2024', 'MSigDB_Computational', 'MSigDB_Hallmark_2020', 'MSigDB_Oncogenic_Signatures', 'Metabolomics_Workbench_Metabolites_2022', 'Microbe_Perturbations_from_GEO_down', 'Microbe_Perturbations_from_GEO_up', 'MoTrPAC_2023', 'Mouse_Gene_Atlas', 'NCI-60_Cancer_Cell_Lines', 'NCI-Nature_2016', 'NIBR_DRUGseq_2025_down', 'NIBR_DRUGseq_2025_up', 'NURSA_Human_Endogenous_Complexome', 'OMIM_Disease', 'OMIM_Expanded', 'Old_CMAP_down', 'Old_CMAP_up', 'Orphanet_Augmented_2021', 'PFOCR_Pathways_2023', 'PPI_Hub_Proteins', 'PanglaoDB_Augmented_2021', 'Panther_2015', 'Panther_2016', 'PerturbAtlas', 'PerturbAtlas_MouseGenePerturbationSigs', 'PerturbSeq_ReplogleK562', 'PerturbSeq_ReplogleRPE1', 'Pfam_Domains_2019', 'Pfam_InterPro_Domains', 'PheWeb_2019', 'PhenGenI_Association_2021', 'Phosphatase_Substrates_from_DEPOD', 'ProteomicsDB_2020', 'Proteomics_Drug_Atlas_2023', 'RNA-Seq_Disease_Gene_and_Drug_Signatures_from_GEO', 'Rare_Diseases_AutoRIF_ARCHS4_Predictions', 'Rare_Diseases_AutoRIF_Gene_Lists', 'Rare_Diseases_GeneRIF_ARCHS4_Predictions', 'Rare_Diseases_GeneRIF_Gene_Lists', 'Reactome_2022', 'Reactome_Pathways_2024', 'RummaGEO_DrugPerturbations_2025', 'Rummagene_kinases', 'Rummagene_signatures', 'Rummagene_transcription_factors', 'SILAC_Phosphoproteomics', 'SubCell_BarCode', 'SynGO_2022', 'SynGO_2024', 'SysMyo_Muscle_Gene_Sets', 'TF-LOF_Expression_from_GEO', 'TF_Perturbations_Followed_by_Expression', 'TG_GATES_2020', 'TISSUES_Curated_2025', 'TISSUES_Experimental_2025', 'TRANSFAC_and_JASPAR_PWMs', 'TRRUST_Transcription_Factors_2019', 'Table_Mining_of_CRISPR_Studies', 'Tabula_Muris', 'Tabula_Sapiens', 'TargetScan_microRNA', 'TargetScan_microRNA_2017', 'The_Kinase_Library_2023', 'The_Kinase_Library_2024', 'Tissue_Protein_Expression_from_Human_Proteome_Map', 'Tissue_Protein_Expression_from_ProteomicsDB', 'Transcription_Factor_PPIs', 'UK_Biobank_GWAS_v1', 'Virus-Host_PPI_P-HIPSTer_2020', 'VirusMINT', 'Virus_Perturbations_from_GEO_down', 'Virus_Perturbations_from_GEO_up', 'WikiPathway_2021_Human', 'WikiPathway_2023_Human', 'WikiPathways_2013', 'WikiPathways_2015', 'WikiPathways_2016', 'WikiPathways_2019_Human', 'WikiPathways_2019_Mouse', 'WikiPathways_2024_Human', 'WikiPathways_2024_Mouse', 'dbGaP', 'huMAP', 'lncHUB_lncRNA_Co-Expression', 'miRTarBase_2017']\n"
     ]
    }
   ],
   "source": [
    "import gseapy as gp\n",
    "\n",
    "libs = gp.get_library_name()\n",
    "print(libs)\n"
   ]
  },
  {
   "cell_type": "code",
   "execution_count": 36,
   "metadata": {},
   "outputs": [],
   "source": [
    "def run_gene_enrichment(feature_csv_path, config_path=\"config.json\", top_n=20):\n",
    "    # ---- Load config ----\n",
    "    with open(config_path) as f:\n",
    "        config = json.load(f)\n",
    "\n",
    "    experiment_name = config.get(\"experiment_name\", \"experiment\")\n",
    "    species = config.get(\"species\", \"mouse\")  # Accepts \"human\", \"mouse\", etc.\n",
    "    gene_column = config.get(\"voted_feature_column\", \"Gene\")\n",
    "    enrichr_libraries = [\n",
    "        \"GO_Biological_Process_2023\",\n",
    "        \"GO_Cellular_Component_2023\",\n",
    "        \"GO_Molecular_Function_2023\",\n",
    "        \"Reactome_2022\",\n",
    "        \"ARCHS4_Tissues\",\n",
    "        \"Rare_Diseases_AutoRIF_Gene_Lists\",\n",
    "        \"KEGG_2019_Mouse\",\n",
    "        \"WikiPathways_2024_Mouse\",\n",
    "        \"MGI_Mammalian_Phenotype_Level_4_2024\",\n",
    "        \"Mouse_Gene_Atlas\"\n",
    "    ]\n",
    "\n",
    "\n",
    "    # ---- Load gene list ----\n",
    "    df = pd.read_csv(feature_csv_path)\n",
    "    genes = df[gene_column].tolist()\n",
    "    symbols = list(ensembl_to_symbol(genes).values())\n",
    "    print(genes)\n",
    "\n",
    "    # ---- Enrichment ----\n",
    "    for lib in enrichr_libraries:\n",
    "        print(f\"Running enrichment for: {lib}\")\n",
    "        enr = enrichr(\n",
    "            gene_list=symbols,\n",
    "            gene_sets=lib,\n",
    "            organism=species,\n",
    "            outdir=None,\n",
    "        )\n",
    "        \n",
    "\n",
    "        if enr.results is not None and not enr.results.empty:\n",
    "            top_results = enr.results.sort_values(\"Adjusted P-value\").head(top_n)\n",
    "            output_path = os.path.join(\"results/analysis\", f\"{experiment_name}_{lib}_top_enrichment.csv\")\n",
    "            top_results.to_csv(output_path, index=False)\n",
    "            print(f\"Saved: {output_path}\")\n",
    "        else:\n",
    "            print(f\"No enrichment found for: {lib}\")\n"
   ]
  },
  {
   "cell_type": "code",
   "execution_count": 37,
   "metadata": {},
   "outputs": [
    {
     "name": "stdout",
     "output_type": "stream",
     "text": [
      "['ENSMUSG00000117874', 'ENSMUSG00000075318', 'ENSMUSG00000111709', 'ENSMUSG00000109564', 'ENSMUSG00000094686', 'ENSMUSG00000078901', 'ENSMUSG00000032323', 'ENSMUSG00000049436', 'ENSMUSG00000041794', 'ENSMUSG00000035373', 'ENSMUSG00000027379', 'ENSMUSG00000027500', 'ENSMUSG00000022613', 'ENSMUSG00000074183', 'ENSMUSG00000034918', 'ENSMUSG00000028587', 'ENSMUSG00000027871', 'ENSMUSG00000022878', 'ENSMUSG00000035352', 'ENSMUSG00000054083', 'ENSMUSG00000027070', 'ENSMUSG00000021697', 'ENSMUSG00000079494', 'ENSMUSG00000026255', 'ENSMUSG00000026609', 'ENSMUSG00000063590', 'ENSMUSG00000029384', 'ENSMUSG00000010476', 'ENSMUSG00000058297', 'ENSMUSG00000032172']\n",
      "Running enrichment for: MGI_Mammalian_Phenotype_Level_4_2024\n",
      "Saved: results/analysis/RR1_rf_baseline_MGI_Mammalian_Phenotype_Level_4_2024_top_enrichment.csv\n",
      "Running enrichment for: Mouse_Gene_Atlas\n",
      "Saved: results/analysis/RR1_rf_baseline_Mouse_Gene_Atlas_top_enrichment.csv\n"
     ]
    }
   ],
   "source": [
    "run_gene_enrichment(\"results/analysis/fv_RR1_baseline_ann_nb_ridge_20250618_120513.csv\", top_n=30)"
   ]
  },
  {
   "cell_type": "code",
   "execution_count": 21,
   "metadata": {},
   "outputs": [
    {
     "data": {
      "text/html": [
       "<div>\n",
       "<style scoped>\n",
       "    .dataframe tbody tr th:only-of-type {\n",
       "        vertical-align: middle;\n",
       "    }\n",
       "\n",
       "    .dataframe tbody tr th {\n",
       "        vertical-align: top;\n",
       "    }\n",
       "\n",
       "    .dataframe thead th {\n",
       "        text-align: right;\n",
       "    }\n",
       "</style>\n",
       "<table border=\"1\" class=\"dataframe\">\n",
       "  <thead>\n",
       "    <tr style=\"text-align: right;\">\n",
       "      <th></th>\n",
       "      <th>Term</th>\n",
       "      <th>Genes</th>\n",
       "      <th>Adjusted P-value</th>\n",
       "    </tr>\n",
       "  </thead>\n",
       "  <tbody>\n",
       "  </tbody>\n",
       "</table>\n",
       "</div>"
      ],
      "text/plain": [
       "Empty DataFrame\n",
       "Columns: [Term, Genes, Adjusted P-value]\n",
       "Index: []"
      ]
     },
     "execution_count": 21,
     "metadata": {},
     "output_type": "execute_result"
    }
   ],
   "source": [
    "enr.results[enr.results['Adjusted P-value'] < 0.05][['Term', 'Genes', 'Adjusted P-value']]"
   ]
  },
  {
   "cell_type": "code",
   "execution_count": 29,
   "metadata": {},
   "outputs": [
    {
     "name": "stdout",
     "output_type": "stream",
     "text": [
      "['ENSMUSG00000117874', 'ENSMUSG00000075318', 'ENSMUSG00000111709', 'ENSMUSG00000109564', 'ENSMUSG00000094686', 'ENSMUSG00000078901', 'ENSMUSG00000032323', 'ENSMUSG00000049436', 'ENSMUSG00000041794', 'ENSMUSG00000035373', 'ENSMUSG00000027379', 'ENSMUSG00000027500', 'ENSMUSG00000022613', 'ENSMUSG00000074183', 'ENSMUSG00000034918', 'ENSMUSG00000028587', 'ENSMUSG00000027871', 'ENSMUSG00000022878', 'ENSMUSG00000035352', 'ENSMUSG00000054083', 'ENSMUSG00000027070', 'ENSMUSG00000021697', 'ENSMUSG00000079494', 'ENSMUSG00000026255', 'ENSMUSG00000026609', 'ENSMUSG00000063590', 'ENSMUSG00000029384', 'ENSMUSG00000010476', 'ENSMUSG00000058297', 'ENSMUSG00000032172']\n"
     ]
    }
   ],
   "source": [
    "df = pd.read_csv(\"results/analysis/fv_RR1_baseline_ann_nb_ridge_20250618_120513.csv\")\n",
    "genes = df[\"Gene\"].tolist()\n",
    "print(genes)"
   ]
  },
  {
   "cell_type": "code",
   "execution_count": 31,
   "metadata": {},
   "outputs": [
    {
     "name": "stdout",
     "output_type": "stream",
     "text": [
      "{'ENSMUSG00000117874': 'Gm50318', 'ENSMUSG00000075318': 'Scn2a', 'ENSMUSG00000111709': 'Gsta13', 'ENSMUSG00000109564': 'Muc16', 'ENSMUSG00000094686': 'Ccl21a', 'ENSMUSG00000078901': 'Zfp1009', 'ENSMUSG00000032323': 'Cyp11a1', 'ENSMUSG00000049436': 'Upk1b', 'ENSMUSG00000041794': 'Myrip', 'ENSMUSG00000035373': 'Ccl7', 'ENSMUSG00000027379': 'Bub1', 'ENSMUSG00000027500': 'Stmn2', 'ENSMUSG00000022613': 'Miox', 'ENSMUSG00000074183': 'Gsta1', 'ENSMUSG00000034918': 'Cdhr2', 'ENSMUSG00000028587': 'Orc1', 'ENSMUSG00000027871': 'Hsd3b1', 'ENSMUSG00000022878': 'Adipoq', 'ENSMUSG00000035352': 'Ccl12', 'ENSMUSG00000054083': 'Capn12', 'ENSMUSG00000027070': 'Lrp2', 'ENSMUSG00000021697': 'Depdc1b', 'ENSMUSG00000079494': 'Nat8f5', 'ENSMUSG00000026255': 'Efhd1', 'ENSMUSG00000026609': 'Ush2a', 'ENSMUSG00000063590': 'Slc22a28', 'ENSMUSG00000029384': '2010109A12Rik', 'ENSMUSG00000010476': 'Ebf3', 'ENSMUSG00000058297': 'Spock2', 'ENSMUSG00000032172': 'Olfm2'}\n"
     ]
    }
   ],
   "source": [
    "import mygene\n",
    "\n",
    "def ensembl_to_symbol(ensembl_ids):\n",
    "    mg = mygene.MyGeneInfo()\n",
    "    query_res = mg.querymany(ensembl_ids, scopes='ensembl.gene', fields='symbol', species='mouse')\n",
    "    \n",
    "    # Create dict mapping ensembl -> symbol (if found)\n",
    "    ensembl_to_symbol_map = {}\n",
    "    for entry in query_res:\n",
    "        if 'notfound' not in entry and 'symbol' in entry:\n",
    "            ensembl_to_symbol_map[entry['query']] = entry['symbol']\n",
    "    \n",
    "    return ensembl_to_symbol_map\n",
    "\n",
    "# Example usage\n",
    "ensembl_ids = [\"ENSMUSG00000075318\", \"ENSMUSG00000111709\"]\n",
    "mapping = ensembl_to_symbol(genes)\n",
    "print(mapping)\n"
   ]
  }
 ],
 "metadata": {
  "kernelspec": {
   "display_name": "Python 3",
   "language": "python",
   "name": "python3"
  },
  "language_info": {
   "codemirror_mode": {
    "name": "ipython",
    "version": 3
   },
   "file_extension": ".py",
   "mimetype": "text/x-python",
   "name": "python",
   "nbconvert_exporter": "python",
   "pygments_lexer": "ipython3",
   "version": "3.10.12 (main, Feb  4 2025, 14:57:36) [GCC 11.4.0]"
  },
  "orig_nbformat": 4,
  "vscode": {
   "interpreter": {
    "hash": "e7370f93d1d0cde622a1f8e1c04877d8463912d04d973331ad4851f04de6915a"
   }
  }
 },
 "nbformat": 4,
 "nbformat_minor": 2
}
